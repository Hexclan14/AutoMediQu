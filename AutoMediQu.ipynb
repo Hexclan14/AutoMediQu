{
  "nbformat": 4,
  "nbformat_minor": 0,
  "metadata": {
    "colab": {
      "provenance": [],
      "authorship_tag": "ABX9TyMEOzzvYf3y7hRPFFozgYEG",
      "include_colab_link": true
    },
    "kernelspec": {
      "name": "python3",
      "display_name": "Python 3"
    },
    "language_info": {
      "name": "python"
    }
  },
  "cells": [
    {
      "cell_type": "markdown",
      "metadata": {
        "id": "view-in-github",
        "colab_type": "text"
      },
      "source": [
        "<a href=\"https://colab.research.google.com/github/Hexclan14/AutoMediQu/blob/main/AutoMediQu.ipynb\" target=\"_parent\"><img src=\"https://colab.research.google.com/assets/colab-badge.svg\" alt=\"Open In Colab\"/></a>"
      ]
    },
    {
      "cell_type": "code",
      "execution_count": 1,
      "metadata": {
        "colab": {
          "base_uri": "https://localhost:8080/"
        },
        "id": "tPObQP6SwfHN",
        "outputId": "bf971c59-519d-4a5e-fad3-7ea11bc021a1"
      },
      "outputs": [
        {
          "output_type": "stream",
          "name": "stdout",
          "text": [
            "Simulated data:  [[(58, 26, 1740551062.4530122), (56, 17, 1740551062.4530153), (99, 100, 1740551062.4530177), (1, 31, 1740551062.453025), (74, 88, 1740551062.4530268), (78, 12, 1740551062.4530287), (66, 55, 1740551062.4530299), (16, 48, 1740551062.453034), (28, 29, 1740551062.4530358), (33, 23, 1740551062.4530373), (66, 93, 1740551062.4530387)], [(15, 16, 1740551062.55312), (54, 80, 1740551062.553123), (9, 27, 1740551062.5531244), (55, 76, 1740551062.5531259), (70, 95, 1740551062.5531278), (51, 20, 1740551062.55313), (38, 82, 1740551062.5531313), (46, 98, 1740551062.5531325), (31, 18, 1740551062.5531337), (9, 96, 1740551062.5531359), (27, 18, 1740551062.553137), (55, 96, 1740551062.5531383), (60, 44, 1740551062.5531397), (77, 97, 1740551062.5531409), (17, 38, 1740551062.553142), (12, 94, 1740551062.5531433), (98, 45, 1740551062.5531447)], [(59, 81, 1740551062.6532712), (17, 56, 1740551062.6532748), (90, 9, 1740551062.653277), (6, 11, 1740551062.6532784), (46, 38, 1740551062.6532805), (19, 4, 1740551062.6532838), (68, 97, 1740551062.6532857), (74, 49, 1740551062.6532874), (0, 99, 1740551062.6532888), (80, 37, 1740551062.6532907), (85, 80, 1740551062.653292), (98, 21, 1740551062.6532934), (18, 25, 1740551062.653295), (35, 95, 1740551062.6532965), (64, 49, 1740551062.6532981)], [(26, 87, 1740551062.753413), (46, 39, 1740551062.7534168), (65, 92, 1740551062.7534182), (84, 77, 1740551062.7534206), (11, 66, 1740551062.7534218), (55, 83, 1740551062.753424), (83, 12, 1740551062.753425), (65, 63, 1740551062.7534263), (46, 66, 1740551062.753428), (37, 76, 1740551062.7534304), (60, 30, 1740551062.7534318), (27, 89, 1740551062.7534332)]]\n"
          ]
        }
      ],
      "source": [
        "import time\n",
        "import random\n",
        "import threading\n",
        "import websocket\n",
        "import json\n",
        "\n",
        "# --- Simulated Data Capture (for POC) ---\n",
        "\n",
        "def simulate_pen_strokes(text=\"Hello\", delay=0.1):\n",
        "    \"\"\"Simulates pen stroke data for a given text.\"\"\"\n",
        "    strokes = []\n",
        "    for char in text:\n",
        "        char_strokes = []\n",
        "        for _ in range(random.randint(5, 20)):\n",
        "            x = random.randint(0, 100)\n",
        "            y = random.randint(0, 100)\n",
        "            t = time.time()\n",
        "            char_strokes.append((x, y, t))\n",
        "        strokes.append(char_strokes)\n",
        "        time.sleep(delay)  # Simulate time between characters.\n",
        "    return strokes\n",
        "\n",
        "# --- Real-World Data Capture (Conceptual) ---\n",
        "\n",
        "class RealTimePenCapture:\n",
        "    def __init__(self, websocket_url):\n",
        "        self.websocket_url = websocket_url\n",
        "        self.strokes = []\n",
        "        self.ws = None\n",
        "        self.running = False\n",
        "\n",
        "    def on_message(self, ws, message):\n",
        "        try:\n",
        "            data = json.loads(message)\n",
        "            if \"stroke_data\" in data:\n",
        "                self.strokes.append(data[\"stroke_data\"])\n",
        "        except json.JSONDecodeError:\n",
        "            print(\"Invalid JSON received.\")\n",
        "\n",
        "    def on_error(self, ws, error):\n",
        "        print(f\"WebSocket error: {error}\")\n",
        "\n",
        "    def on_close(self, ws, close_status_code, close_msg):\n",
        "        print(\"WebSocket connection closed.\")\n",
        "        self.running = False\n",
        "\n",
        "    def on_open(self, ws):\n",
        "        print(\"WebSocket connection opened.\")\n",
        "\n",
        "    def start_capture(self):\n",
        "        self.running = True\n",
        "        self.ws = websocket.WebSocketApp(\n",
        "            self.websocket_url,\n",
        "            on_message=self.on_message,\n",
        "            on_error=self.on_error,\n",
        "            on_close=self.on_close,\n",
        "            on_open=self.on_open,\n",
        "        )\n",
        "\n",
        "        def run_forever():\n",
        "            self.ws.run_forever()\n",
        "\n",
        "        self.thread = threading.Thread(target=run_forever)\n",
        "        self.thread.daemon = True  # Allow the main thread to exit\n",
        "        self.thread.start()\n",
        "\n",
        "    def stop_capture(self):\n",
        "        if self.ws:\n",
        "            self.ws.close()\n",
        "            self.running = False\n",
        "            self.thread.join()\n",
        "\n",
        "    def get_strokes(self):\n",
        "        return self.strokes\n",
        "# Example real world usage.\n",
        "# real_capture = RealTimePenCapture(\"ws://your-pen-device-websocket-url\")\n",
        "# real_capture.start_capture()\n",
        "# time.sleep(10) #capture data for 10 seconds.\n",
        "# real_capture.stop_capture()\n",
        "# captured_data = real_capture.get_strokes()\n",
        "# print(captured_data)\n",
        "\n",
        "#Example simulation usage.\n",
        "if __name__ == \"__main__\":\n",
        "    simulated_data = simulate_pen_strokes(\"Test\")\n",
        "    print(\"Simulated data: \", simulated_data)"
      ]
    },
    {
      "cell_type": "code",
      "source": [
        "def preprocess_strokes(strokes):\n",
        "    \"\"\"Preprocesses the simulated pen stroke data.\"\"\"\n",
        "    processed_data = []\n",
        "    for char_strokes in strokes:\n",
        "        processed_data.append(char_strokes) # In a real example, this would be where you normalize the data.\n",
        "    return processed_data"
      ],
      "metadata": {
        "id": "ZcCsebzv7nJu"
      },
      "execution_count": 2,
      "outputs": []
    },
    {
      "cell_type": "code",
      "source": [
        "import tensorflow as tf\n",
        "from tensorflow import keras\n",
        "import numpy as np\n",
        "\n",
        "def create_rnn_model(input_shape):\n",
        "    \"\"\"Creates a simple RNN model.\"\"\"\n",
        "    model = keras.Sequential([\n",
        "        keras.layers.LSTM(128, input_shape=input_shape, return_sequences=True),\n",
        "        keras.layers.LSTM(64),\n",
        "        keras.layers.Dense(32, activation='relu'),\n",
        "        keras.layers.Dense(27, activation='softmax')  # 26 letters + space\n",
        "    ])\n",
        "    model.compile(optimizer='adam', loss='sparse_categorical_crossentropy', metrics=['accuracy'])\n",
        "    return model\n",
        "\n",
        "# Example usage (assuming input_shape):\n",
        "# model = create_rnn_model(input_shape=(None, 3)) # (time steps, features)\n",
        "# Note: Input shape will depend on how you convert the raw stroke data."
      ],
      "metadata": {
        "id": "aBq3v2UQ7wBb"
      },
      "execution_count": 3,
      "outputs": []
    },
    {
      "cell_type": "code",
      "source": [
        "def train_model(model, train_data, train_labels):\n",
        "    \"\"\"Trains the RNN model.\"\"\"\n",
        "    # Placeholder: Create and train on a small dataset\n",
        "    # model.fit(train_data, train_labels, epochs=10)\n",
        "    print(\"Training function placeholder.\")\n",
        "    pass"
      ],
      "metadata": {
        "id": "R2-K7Uld70R-"
      },
      "execution_count": null,
      "outputs": []
    }
  ]
}
{
  "nbformat": 4,
  "nbformat_minor": 0,
  "metadata": {
    "colab": {
      "provenance": [],
      "authorship_tag": "ABX9TyN7Ik+R2Irslt8Dw+/mpgdx",
      "include_colab_link": true
    },
    "kernelspec": {
      "name": "python3",
      "display_name": "Python 3"
    },
    "language_info": {
      "name": "python"
    }
  },
  "cells": [
    {
      "cell_type": "markdown",
      "metadata": {
        "id": "view-in-github",
        "colab_type": "text"
      },
      "source": [
        "<a href=\"https://colab.research.google.com/github/Hexclan14/AutoMediQu/blob/main/AutoMediQu.ipynb\" target=\"_parent\"><img src=\"https://colab.research.google.com/assets/colab-badge.svg\" alt=\"Open In Colab\"/></a>"
      ]
    },
    {
      "cell_type": "code",
      "execution_count": 1,
      "metadata": {
        "colab": {
          "base_uri": "https://localhost:8080/"
        },
        "id": "tPObQP6SwfHN",
        "outputId": "bf971c59-519d-4a5e-fad3-7ea11bc021a1"
      },
      "outputs": [
        {
          "output_type": "stream",
          "name": "stdout",
          "text": [
            "Simulated data:  [[(58, 26, 1740551062.4530122), (56, 17, 1740551062.4530153), (99, 100, 1740551062.4530177), (1, 31, 1740551062.453025), (74, 88, 1740551062.4530268), (78, 12, 1740551062.4530287), (66, 55, 1740551062.4530299), (16, 48, 1740551062.453034), (28, 29, 1740551062.4530358), (33, 23, 1740551062.4530373), (66, 93, 1740551062.4530387)], [(15, 16, 1740551062.55312), (54, 80, 1740551062.553123), (9, 27, 1740551062.5531244), (55, 76, 1740551062.5531259), (70, 95, 1740551062.5531278), (51, 20, 1740551062.55313), (38, 82, 1740551062.5531313), (46, 98, 1740551062.5531325), (31, 18, 1740551062.5531337), (9, 96, 1740551062.5531359), (27, 18, 1740551062.553137), (55, 96, 1740551062.5531383), (60, 44, 1740551062.5531397), (77, 97, 1740551062.5531409), (17, 38, 1740551062.553142), (12, 94, 1740551062.5531433), (98, 45, 1740551062.5531447)], [(59, 81, 1740551062.6532712), (17, 56, 1740551062.6532748), (90, 9, 1740551062.653277), (6, 11, 1740551062.6532784), (46, 38, 1740551062.6532805), (19, 4, 1740551062.6532838), (68, 97, 1740551062.6532857), (74, 49, 1740551062.6532874), (0, 99, 1740551062.6532888), (80, 37, 1740551062.6532907), (85, 80, 1740551062.653292), (98, 21, 1740551062.6532934), (18, 25, 1740551062.653295), (35, 95, 1740551062.6532965), (64, 49, 1740551062.6532981)], [(26, 87, 1740551062.753413), (46, 39, 1740551062.7534168), (65, 92, 1740551062.7534182), (84, 77, 1740551062.7534206), (11, 66, 1740551062.7534218), (55, 83, 1740551062.753424), (83, 12, 1740551062.753425), (65, 63, 1740551062.7534263), (46, 66, 1740551062.753428), (37, 76, 1740551062.7534304), (60, 30, 1740551062.7534318), (27, 89, 1740551062.7534332)]]\n"
          ]
        }
      ],
      "source": [
        "import time\n",
        "import random\n",
        "import threading\n",
        "import websocket\n",
        "import json\n",
        "\n",
        "# --- Simulated Data Capture (for POC) ---\n",
        "\n",
        "def simulate_pen_strokes(text=\"Hello\", delay=0.1):\n",
        "    \"\"\"Simulates pen stroke data for a given text.\"\"\"\n",
        "    strokes = []\n",
        "    for char in text:\n",
        "        char_strokes = []\n",
        "        for _ in range(random.randint(5, 20)):\n",
        "            x = random.randint(0, 100)\n",
        "            y = random.randint(0, 100)\n",
        "            t = time.time()\n",
        "            char_strokes.append((x, y, t))\n",
        "        strokes.append(char_strokes)\n",
        "        time.sleep(delay)  # Simulate time between characters.\n",
        "    return strokes\n",
        "\n",
        "# --- Real-World Data Capture (Conceptual) ---\n",
        "\n",
        "class RealTimePenCapture:\n",
        "    def __init__(self, websocket_url):\n",
        "        self.websocket_url = websocket_url\n",
        "        self.strokes = []\n",
        "        self.ws = None\n",
        "        self.running = False\n",
        "\n",
        "    def on_message(self, ws, message):\n",
        "        try:\n",
        "            data = json.loads(message)\n",
        "            if \"stroke_data\" in data:\n",
        "                self.strokes.append(data[\"stroke_data\"])\n",
        "        except json.JSONDecodeError:\n",
        "            print(\"Invalid JSON received.\")\n",
        "\n",
        "    def on_error(self, ws, error):\n",
        "        print(f\"WebSocket error: {error}\")\n",
        "\n",
        "    def on_close(self, ws, close_status_code, close_msg):\n",
        "        print(\"WebSocket connection closed.\")\n",
        "        self.running = False\n",
        "\n",
        "    def on_open(self, ws):\n",
        "        print(\"WebSocket connection opened.\")\n",
        "\n",
        "    def start_capture(self):\n",
        "        self.running = True\n",
        "        self.ws = websocket.WebSocketApp(\n",
        "            self.websocket_url,\n",
        "            on_message=self.on_message,\n",
        "            on_error=self.on_error,\n",
        "            on_close=self.on_close,\n",
        "            on_open=self.on_open,\n",
        "        )\n",
        "\n",
        "        def run_forever():\n",
        "            self.ws.run_forever()\n",
        "\n",
        "        self.thread = threading.Thread(target=run_forever)\n",
        "        self.thread.daemon = True  # Allow the main thread to exit\n",
        "        self.thread.start()\n",
        "\n",
        "    def stop_capture(self):\n",
        "        if self.ws:\n",
        "            self.ws.close()\n",
        "            self.running = False\n",
        "            self.thread.join()\n",
        "\n",
        "    def get_strokes(self):\n",
        "        return self.strokes\n",
        "# Example real world usage.\n",
        "# real_capture = RealTimePenCapture(\"ws://your-pen-device-websocket-url\")\n",
        "# real_capture.start_capture()\n",
        "# time.sleep(10) #capture data for 10 seconds.\n",
        "# real_capture.stop_capture()\n",
        "# captured_data = real_capture.get_strokes()\n",
        "# print(captured_data)\n",
        "\n",
        "#Example simulation usage.\n",
        "if __name__ == \"__main__\":\n",
        "    simulated_data = simulate_pen_strokes(\"Test\")\n",
        "    print(\"Simulated data: \", simulated_data)"
      ]
    },
    {
      "cell_type": "code",
      "source": [
        "from google.colab import files"
      ],
      "metadata": {
        "id": "uxr_4yaC_u7I"
      },
      "execution_count": 4,
      "outputs": []
    },
    {
      "cell_type": "code",
      "source": [
        "files.upload(\"kaggle.json\")"
      ],
      "metadata": {
        "colab": {
          "base_uri": "https://localhost:8080/",
          "height": 90
        },
        "id": "OspiqHRb_0wr",
        "outputId": "01e9bd18-8b6f-4a65-f8c4-42501ea9080a"
      },
      "execution_count": 5,
      "outputs": [
        {
          "output_type": "display_data",
          "data": {
            "text/plain": [
              "<IPython.core.display.HTML object>"
            ],
            "text/html": [
              "\n",
              "     <input type=\"file\" id=\"files-4ba4a74b-8413-453e-b585-8faa52e3080e\" name=\"files[]\" multiple disabled\n",
              "        style=\"border:none\" />\n",
              "     <output id=\"result-4ba4a74b-8413-453e-b585-8faa52e3080e\">\n",
              "      Upload widget is only available when the cell has been executed in the\n",
              "      current browser session. Please rerun this cell to enable.\n",
              "      </output>\n",
              "      <script>// Copyright 2017 Google LLC\n",
              "//\n",
              "// Licensed under the Apache License, Version 2.0 (the \"License\");\n",
              "// you may not use this file except in compliance with the License.\n",
              "// You may obtain a copy of the License at\n",
              "//\n",
              "//      http://www.apache.org/licenses/LICENSE-2.0\n",
              "//\n",
              "// Unless required by applicable law or agreed to in writing, software\n",
              "// distributed under the License is distributed on an \"AS IS\" BASIS,\n",
              "// WITHOUT WARRANTIES OR CONDITIONS OF ANY KIND, either express or implied.\n",
              "// See the License for the specific language governing permissions and\n",
              "// limitations under the License.\n",
              "\n",
              "/**\n",
              " * @fileoverview Helpers for google.colab Python module.\n",
              " */\n",
              "(function(scope) {\n",
              "function span(text, styleAttributes = {}) {\n",
              "  const element = document.createElement('span');\n",
              "  element.textContent = text;\n",
              "  for (const key of Object.keys(styleAttributes)) {\n",
              "    element.style[key] = styleAttributes[key];\n",
              "  }\n",
              "  return element;\n",
              "}\n",
              "\n",
              "// Max number of bytes which will be uploaded at a time.\n",
              "const MAX_PAYLOAD_SIZE = 100 * 1024;\n",
              "\n",
              "function _uploadFiles(inputId, outputId) {\n",
              "  const steps = uploadFilesStep(inputId, outputId);\n",
              "  const outputElement = document.getElementById(outputId);\n",
              "  // Cache steps on the outputElement to make it available for the next call\n",
              "  // to uploadFilesContinue from Python.\n",
              "  outputElement.steps = steps;\n",
              "\n",
              "  return _uploadFilesContinue(outputId);\n",
              "}\n",
              "\n",
              "// This is roughly an async generator (not supported in the browser yet),\n",
              "// where there are multiple asynchronous steps and the Python side is going\n",
              "// to poll for completion of each step.\n",
              "// This uses a Promise to block the python side on completion of each step,\n",
              "// then passes the result of the previous step as the input to the next step.\n",
              "function _uploadFilesContinue(outputId) {\n",
              "  const outputElement = document.getElementById(outputId);\n",
              "  const steps = outputElement.steps;\n",
              "\n",
              "  const next = steps.next(outputElement.lastPromiseValue);\n",
              "  return Promise.resolve(next.value.promise).then((value) => {\n",
              "    // Cache the last promise value to make it available to the next\n",
              "    // step of the generator.\n",
              "    outputElement.lastPromiseValue = value;\n",
              "    return next.value.response;\n",
              "  });\n",
              "}\n",
              "\n",
              "/**\n",
              " * Generator function which is called between each async step of the upload\n",
              " * process.\n",
              " * @param {string} inputId Element ID of the input file picker element.\n",
              " * @param {string} outputId Element ID of the output display.\n",
              " * @return {!Iterable<!Object>} Iterable of next steps.\n",
              " */\n",
              "function* uploadFilesStep(inputId, outputId) {\n",
              "  const inputElement = document.getElementById(inputId);\n",
              "  inputElement.disabled = false;\n",
              "\n",
              "  const outputElement = document.getElementById(outputId);\n",
              "  outputElement.innerHTML = '';\n",
              "\n",
              "  const pickedPromise = new Promise((resolve) => {\n",
              "    inputElement.addEventListener('change', (e) => {\n",
              "      resolve(e.target.files);\n",
              "    });\n",
              "  });\n",
              "\n",
              "  const cancel = document.createElement('button');\n",
              "  inputElement.parentElement.appendChild(cancel);\n",
              "  cancel.textContent = 'Cancel upload';\n",
              "  const cancelPromise = new Promise((resolve) => {\n",
              "    cancel.onclick = () => {\n",
              "      resolve(null);\n",
              "    };\n",
              "  });\n",
              "\n",
              "  // Wait for the user to pick the files.\n",
              "  const files = yield {\n",
              "    promise: Promise.race([pickedPromise, cancelPromise]),\n",
              "    response: {\n",
              "      action: 'starting',\n",
              "    }\n",
              "  };\n",
              "\n",
              "  cancel.remove();\n",
              "\n",
              "  // Disable the input element since further picks are not allowed.\n",
              "  inputElement.disabled = true;\n",
              "\n",
              "  if (!files) {\n",
              "    return {\n",
              "      response: {\n",
              "        action: 'complete',\n",
              "      }\n",
              "    };\n",
              "  }\n",
              "\n",
              "  for (const file of files) {\n",
              "    const li = document.createElement('li');\n",
              "    li.append(span(file.name, {fontWeight: 'bold'}));\n",
              "    li.append(span(\n",
              "        `(${file.type || 'n/a'}) - ${file.size} bytes, ` +\n",
              "        `last modified: ${\n",
              "            file.lastModifiedDate ? file.lastModifiedDate.toLocaleDateString() :\n",
              "                                    'n/a'} - `));\n",
              "    const percent = span('0% done');\n",
              "    li.appendChild(percent);\n",
              "\n",
              "    outputElement.appendChild(li);\n",
              "\n",
              "    const fileDataPromise = new Promise((resolve) => {\n",
              "      const reader = new FileReader();\n",
              "      reader.onload = (e) => {\n",
              "        resolve(e.target.result);\n",
              "      };\n",
              "      reader.readAsArrayBuffer(file);\n",
              "    });\n",
              "    // Wait for the data to be ready.\n",
              "    let fileData = yield {\n",
              "      promise: fileDataPromise,\n",
              "      response: {\n",
              "        action: 'continue',\n",
              "      }\n",
              "    };\n",
              "\n",
              "    // Use a chunked sending to avoid message size limits. See b/62115660.\n",
              "    let position = 0;\n",
              "    do {\n",
              "      const length = Math.min(fileData.byteLength - position, MAX_PAYLOAD_SIZE);\n",
              "      const chunk = new Uint8Array(fileData, position, length);\n",
              "      position += length;\n",
              "\n",
              "      const base64 = btoa(String.fromCharCode.apply(null, chunk));\n",
              "      yield {\n",
              "        response: {\n",
              "          action: 'append',\n",
              "          file: file.name,\n",
              "          data: base64,\n",
              "        },\n",
              "      };\n",
              "\n",
              "      let percentDone = fileData.byteLength === 0 ?\n",
              "          100 :\n",
              "          Math.round((position / fileData.byteLength) * 100);\n",
              "      percent.textContent = `${percentDone}% done`;\n",
              "\n",
              "    } while (position < fileData.byteLength);\n",
              "  }\n",
              "\n",
              "  // All done.\n",
              "  yield {\n",
              "    response: {\n",
              "      action: 'complete',\n",
              "    }\n",
              "  };\n",
              "}\n",
              "\n",
              "scope.google = scope.google || {};\n",
              "scope.google.colab = scope.google.colab || {};\n",
              "scope.google.colab._files = {\n",
              "  _uploadFiles,\n",
              "  _uploadFilesContinue,\n",
              "};\n",
              "})(self);\n",
              "</script> "
            ]
          },
          "metadata": {}
        },
        {
          "output_type": "stream",
          "name": "stdout",
          "text": [
            "Saving kaggle (1).json to kaggle.json/kaggle (1).json\n"
          ]
        },
        {
          "output_type": "execute_result",
          "data": {
            "text/plain": [
              "{'kaggle.json/kaggle (1).json': b'{\"username\":\"hexclan14\",\"key\":\"10088327f103878be849d9ccb3207284\"}'}"
            ]
          },
          "metadata": {},
          "execution_count": 5
        }
      ]
    },
    {
      "cell_type": "code",
      "source": [
        "import os\n",
        "\n",
        "\n",
        "!mkdir -p ~/.kaggle\n",
        "!mv kaggle.json ~/.kaggle/\n",
        "!chmod 600 ~/.kaggle/kaggle.json  # Set permissions\n",
        "\n",
        "!kaggle datasets download -d mamun1113/doctors-handwritten-prescription-bd-dataset\n",
        "\n",
        "!unzip doctors-handwritten-prescription-bd-dataset.zip -d doctors_dataset\n"
      ],
      "metadata": {
        "colab": {
          "base_uri": "https://localhost:8080/"
        },
        "id": "xnhF9fsOAAxk",
        "outputId": "760fa571-2c7a-4d1f-e5f8-8f54724d92c1"
      },
      "execution_count": 6,
      "outputs": [
        {
          "output_type": "stream",
          "name": "stdout",
          "text": [
            "Traceback (most recent call last):\n",
            "  File \"/usr/local/bin/kaggle\", line 4, in <module>\n",
            "    from kaggle.cli import main\n",
            "  File \"/usr/local/lib/python3.11/dist-packages/kaggle/__init__.py\", line 7, in <module>\n",
            "    api.authenticate()\n",
            "  File \"/usr/local/lib/python3.11/dist-packages/kaggle/api/kaggle_api_extended.py\", line 414, in authenticate\n",
            "    self._load_config(config_data)\n",
            "  File \"/usr/local/lib/python3.11/dist-packages/kaggle/api/kaggle_api_extended.py\", line 465, in _load_config\n",
            "    raise ValueError('Error: Missing %s in configuration.' % item)\n",
            "ValueError: Error: Missing username in configuration.\n",
            "unzip:  cannot find or open doctors-handwritten-prescription-bd-dataset.zip, doctors-handwritten-prescription-bd-dataset.zip.zip or doctors-handwritten-prescription-bd-dataset.zip.ZIP.\n"
          ]
        }
      ]
    },
    {
      "cell_type": "code",
      "source": [],
      "metadata": {
        "id": "nqUJ68k1AA8z"
      },
      "execution_count": null,
      "outputs": []
    },
    {
      "cell_type": "code",
      "source": [
        "def preprocess_strokes(strokes):\n",
        "    \"\"\"Preprocesses the simulated pen stroke data.\"\"\"\n",
        "    processed_data = []\n",
        "    for char_strokes in strokes:\n",
        "        processed_data.append(char_strokes) # In a real example, this would be where you normalize the data.\n",
        "    return processed_data"
      ],
      "metadata": {
        "id": "ZcCsebzv7nJu"
      },
      "execution_count": 2,
      "outputs": []
    },
    {
      "cell_type": "code",
      "source": [
        "import tensorflow as tf\n",
        "from tensorflow import keras\n",
        "import numpy as np\n",
        "\n",
        "def create_rnn_model(input_shape):\n",
        "    \"\"\"Creates a simple RNN model.\"\"\"\n",
        "    model = keras.Sequential([\n",
        "        keras.layers.LSTM(128, input_shape=input_shape, return_sequences=True),\n",
        "        keras.layers.LSTM(64),\n",
        "        keras.layers.Dense(32, activation='relu'),\n",
        "        keras.layers.Dense(27, activation='softmax')  # 26 letters + space\n",
        "    ])\n",
        "    model.compile(optimizer='adam', loss='sparse_categorical_crossentropy', metrics=['accuracy'])\n",
        "    return model\n",
        "\n",
        "# Example usage (assuming input_shape):\n",
        "# model = create_rnn_model(input_shape=(None, 3)) # (time steps, features)\n",
        "# Note: Input shape will depend on how you convert the raw stroke data."
      ],
      "metadata": {
        "id": "aBq3v2UQ7wBb"
      },
      "execution_count": 3,
      "outputs": []
    },
    {
      "cell_type": "code",
      "source": [
        "def train_model(model, train_data, train_labels):\n",
        "    \"\"\"Trains the RNN model.\"\"\"\n",
        "    # Placeholder: Create and train on a small dataset\n",
        "    # model.fit(train_data, train_labels, epochs=10)\n",
        "    print(\"Training function placeholder.\")\n",
        "    pass"
      ],
      "metadata": {
        "id": "R2-K7Uld70R-"
      },
      "execution_count": null,
      "outputs": []
    }
  ]
}
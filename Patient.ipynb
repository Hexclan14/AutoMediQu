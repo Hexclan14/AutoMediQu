{
  "nbformat": 4,
  "nbformat_minor": 0,
  "metadata": {
    "colab": {
      "provenance": [],
      "authorship_tag": "ABX9TyNqsc3fgDKEZSZtxSyddOiH",
      "include_colab_link": true
    },
    "kernelspec": {
      "name": "python3",
      "display_name": "Python 3"
    },
    "language_info": {
      "name": "python"
    }
  },
  "cells": [
    {
      "cell_type": "markdown",
      "metadata": {
        "id": "view-in-github",
        "colab_type": "text"
      },
      "source": [
        "<a href=\"https://colab.research.google.com/github/Hexclan14/AutoMediQu/blob/main/Patient.ipynb\" target=\"_parent\"><img src=\"https://colab.research.google.com/assets/colab-badge.svg\" alt=\"Open In Colab\"/></a>"
      ]
    },
    {
      "cell_type": "code",
      "execution_count": null,
      "metadata": {
        "id": "mJtHsyW7D6Cq"
      },
      "outputs": [],
      "source": [
        "import uuid\n",
        "class Patient:\n",
        "  def __init__(self, name , dateofbirth , place of residence , contact_number , medical_history = None , wantsservice = true):\n",
        "    self.id = str(uuid.uuid4())\n",
        "    self.name = name\n",
        "    self.dateofbirth = dateofbirth\n",
        "    self.placeofresidence = placeofresidence\n",
        "    self.contact_number = contact_number\n",
        "    self.medical_history = medical_history\n",
        "    self.wantsservice = wantsservice\n",
        "  def add_record(self, record):\n",
        "    self.medical_history.append(record)\n",
        "  def update_service(self , preference):\n",
        "    self.wantsservice = preference\n",
        "  def __str__(self):\n",
        "    return f\"Patient Name: {self.name}\\nDate of Birth: {self.dateofbirth}\\nPlace of Residence: {self.placeofresidence}\\nContact Number: {self.contact_number}\\n\n",
        "\n",
        "\n"
      ]
    }
  ]
}